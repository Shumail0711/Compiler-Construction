{
  "nbformat": 4,
  "nbformat_minor": 0,
  "metadata": {
    "colab": {
      "provenance": [],
      "authorship_tag": "ABX9TyPIAS2RkxLpUiI1nqU78HjG",
      "include_colab_link": true
    },
    "kernelspec": {
      "name": "python3",
      "display_name": "Python 3"
    },
    "language_info": {
      "name": "python"
    }
  },
  "cells": [
    {
      "cell_type": "markdown",
      "metadata": {
        "id": "view-in-github",
        "colab_type": "text"
      },
      "source": [
        "<a href=\"https://colab.research.google.com/github/Shumail0711/Compiler-Construction/blob/main/Untitled24.ipynb\" target=\"_parent\"><img src=\"https://colab.research.google.com/assets/colab-badge.svg\" alt=\"Open In Colab\"/></a>"
      ]
    },
    {
      "cell_type": "code",
      "source": [
        "\n",
        "#   ******MODULE 2*****\n",
        "\n",
        "#taking the input from the user\n",
        "a=input(\"enter the expression:\")\n",
        "b = ast.parse(a)\n",
        "\n",
        "# Printing the AST\n",
        "print(ast.dump(b))"
      ],
      "metadata": {
        "colab": {
          "base_uri": "https://localhost:8080/"
        },
        "id": "_FlAblk-CKTW",
        "outputId": "62b8bbe7-3551-4b6a-9fa4-8572671a66b9"
      },
      "execution_count": null,
      "outputs": [
        {
          "output_type": "stream",
          "name": "stdout",
          "text": [
            "enter the expression:a+(b*c)\n",
            "Module(body=[Expr(value=BinOp(left=Name(id='a', ctx=Load()), op=Add(), right=BinOp(left=Name(id='b', ctx=Load()), op=Mult(), right=Name(id='c', ctx=Load()))))], type_ignores=[])\n"
          ]
        }
      ]
    },
    {
      "cell_type": "code",
      "source": [
        "\n",
        "#      ********MODULE 1*******\n",
        "\n",
        "def tokenize(regex):\n",
        "                            \n",
        "  token =  r\"\"\"(?x)          \n",
        "                           [\\d.]+|     #digits comparison \n",
        "                           [-+*/()]|   #operators and parentheses comparison\n",
        "                           [a-zA-Z]+   #variable matching\n",
        "                        \"\"\"\n",
        "  \n",
        "  # Finding tokens in the expression\n",
        "  exp = re.findall(token, regex)\n",
        "  \n",
        "  return exp\n",
        "\n",
        "#  take expression from user to be tokenized\n",
        "regex=input(\"enter the expression:\")\n",
        "print(tokenize(regex))"
      ],
      "metadata": {
        "colab": {
          "base_uri": "https://localhost:8080/"
        },
        "id": "kn75wF6pEPQ0",
        "outputId": "8ae1c58c-6294-42f6-aa40-41d18039cbd5"
      },
      "execution_count": null,
      "outputs": [
        {
          "output_type": "stream",
          "name": "stdout",
          "text": [
            "enter the expression:a+(b*c)\n",
            "['a', '+', '(', 'b', '*', 'c', ')']\n"
          ]
        }
      ]
    }
  ]
}